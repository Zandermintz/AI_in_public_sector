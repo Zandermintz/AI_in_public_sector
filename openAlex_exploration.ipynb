{
 "cells": [
  {
   "cell_type": "markdown",
   "id": "c874d347-f131-425a-92ea-30ab3485cc27",
   "metadata": {},
   "source": [
    "# OpenAlexAPI Exploration"
   ]
  },
  {
   "cell_type": "code",
   "execution_count": null,
   "id": "dcb53475-d629-43b5-bffb-9afd5585edbe",
   "metadata": {},
   "outputs": [],
   "source": [
    "#Install libraries\n",
    "\n",
    "import sys\n",
    "import pandas as pd\n",
    "import numpy as np\n",
    "import matplotlib.pyplot as plt\n",
    "import requests\n",
    "from tqdm import tqdm\n",
    "from collections import Counter"
   ]
  },
  {
   "cell_type": "code",
   "execution_count": null,
   "id": "de3331a7-c891-4c90-8b92-4fff268b87d4",
   "metadata": {},
   "outputs": [],
   "source": [
    "#Installing clients\n",
    "\n",
    "pip install diophila #diophila client: https://pypi.org/project/diophila/#description\n",
    "pip install pyalex #pyalex client: https://github.com/J535D165/pyalex"
   ]
  },
  {
   "cell_type": "code",
   "execution_count": null,
   "id": "cdff523d-8177-43de-a0af-ae3d47efe313",
   "metadata": {},
   "outputs": [],
   "source": [
    "#Initializing diophila client\n",
    "\n",
    "from diophila import OpenAlex\n",
    "\n",
    "openalex = OpenAlex()\n",
    "\n",
    "#pulling single DOI (AI for the Public Sector)\n",
    "\n",
    "specific_work = openalex.get_single_work(\"http://dx.doi.org/10.1098/rsta.2017.0357\", \"doi\")\n",
    "specific_work['display_name']\n",
    "\n",
    "#trying to pull list of DOIs\n",
    "DOI_list_dict = {\"doi\": \"http://dx.doi.org/10.1098/rsta.2017.0357\",\n",
    "                 \"doi\": \"http://dx.doi.org/10.1098/rsta.2017.0359\",\n",
    "                 \"doi\": \"https://doi.org/10.1146/annurev-lawsocsci-041221- 023808\",\n",
    "                 \"doi\": \"10.1080/14719037.2022.2048685\",\n",
    "                 \"doi\": \"https://doi.org/10.1145/3476089\",\n",
    "                 \"doi\": \"https://doi.org/10.1162/DAED_a_01922\",\n",
    "                 \"doi\": \"http://dx.doi.org/10.1098/rsta.2017.0364\"}\n",
    "pages = None\n",
    "\n",
    "multiple_work = openalex.get_list_of_works(filters = DOI_list_dict, pages = pages)\n",
    "\n",
    "#need to generate loop for grabbing info\n",
    "\n",
    "for work in multiple_work:          # loop through work objects\n",
    " print(work['1'])"
   ]
  },
  {
   "cell_type": "code",
   "execution_count": null,
   "id": "6dc37b25-6d67-464f-bbc7-09c477b52eb9",
   "metadata": {},
   "outputs": [],
   "source": [
    "#Initializing pyalex client\n",
    "\n",
    "from pyalex import Works, Authors, Venues, Institutions, Concepts\n",
    "\n",
    "#DOI List\n",
    "\n",
    "DOI_list = ['http://dx.doi.org/10.1098/rsta.2017.0357',\n",
    "           'http://dx.doi.org/10.1098/rsta.2017.0359',\n",
    "           'https://doi.org/10.1146/annurev-lawsocsci-041221- 023808',\n",
    "           '10.1080/14719037.2022.2048685',\n",
    "           'https://doi.org/10.1145/3476089',\n",
    "           'https://doi.org/10.1162/DAED_a_01922',\n",
    "           'http://dx.doi.org/10.1098/rsta.2017.0364']\n",
    "\n",
    "#Pull list of DOIs in OpenAlex API\n",
    "\n",
    "pipe_separated_DOI_list = \"|\".join(DOI_list)\n",
    "r = requests.get(f\"https://api.openalex.org/works?filter=doi:{pipe_separated_DOI_list}&per-page=50&mailto=support@openalex.org\")\n",
    "works = r.json()[\"results\"]\n",
    "\n",
    "for work in works:\n",
    "  print(work[\"doi\"] ,work[\"display_name\"], work[\"type\"])"
   ]
  }
 ],
 "metadata": {
  "kernelspec": {
   "display_name": "Python 3 (ipykernel)",
   "language": "python",
   "name": "python3"
  },
  "language_info": {
   "codemirror_mode": {
    "name": "ipython",
    "version": 3
   },
   "file_extension": ".py",
   "mimetype": "text/x-python",
   "name": "python",
   "nbconvert_exporter": "python",
   "pygments_lexer": "ipython3",
   "version": "3.9.13"
  }
 },
 "nbformat": 4,
 "nbformat_minor": 5
}
