{
 "cells": [
  {
   "cell_type": "markdown",
   "id": "c874d347-f131-425a-92ea-30ab3485cc27",
   "metadata": {},
   "source": [
    "# OpenAlexAPI Exploration"
   ]
  },
  {
   "cell_type": "code",
   "execution_count": null,
   "id": "dcb53475-d629-43b5-bffb-9afd5585edbe",
   "metadata": {},
   "outputs": [],
   "source": [
    "#Zander to insert his code here"
   ]
  }
 ],
 "metadata": {
  "kernelspec": {
   "display_name": "Python 3 (ipykernel)",
   "language": "python",
   "name": "python3"
  },
  "language_info": {
   "codemirror_mode": {
    "name": "ipython",
    "version": 3
   },
   "file_extension": ".py",
   "mimetype": "text/x-python",
   "name": "python",
   "nbconvert_exporter": "python",
   "pygments_lexer": "ipython3",
   "version": "3.9.13"
  }
 },
 "nbformat": 4,
 "nbformat_minor": 5
}
