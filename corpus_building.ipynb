{
 "cells": [
  {
   "cell_type": "markdown",
   "id": "692d9e51-1fd8-4aa3-bc73-702570e49af5",
   "metadata": {},
   "source": [
    "# Corpus Building Notebook"
   ]
  },
  {
   "cell_type": "code",
   "execution_count": 1,
   "id": "9e9fffc0-731c-4275-976c-bc07a2e83e38",
   "metadata": {
    "tags": []
   },
   "outputs": [],
   "source": [
    "#Install libraries\n",
    "\n",
    "import sys\n",
    "import pandas as pd\n",
    "import numpy as np\n",
    "import matplotlib.pyplot as plt\n",
    "import requests\n",
    "from tqdm import tqdm\n",
    "from collections import Counter"
   ]
  },
  {
   "cell_type": "code",
   "execution_count": 4,
   "id": "71556cc6-b163-42ff-94b7-d18701a9612a",
   "metadata": {
    "tags": []
   },
   "outputs": [],
   "source": [
    "#Installing client - run below command in terminal\n",
    "\n",
    "#pip install pyalex #pyalex client: https://github.com/J535D165/pyalex"
   ]
  },
  {
   "cell_type": "markdown",
   "id": "8bbd03d6-b01f-49db-8366-208a5189508a",
   "metadata": {},
   "source": [
    "## Seed Sources"
   ]
  },
  {
   "cell_type": "markdown",
   "id": "a91efd73-63df-44cf-833a-5c2e908ef01b",
   "metadata": {},
   "source": [
    "### Create and Obtain List of Seed Sources"
   ]
  },
  {
   "cell_type": "code",
   "execution_count": 3,
   "id": "7a7269d5-b510-42d8-baf8-15fb9a5e1d26",
   "metadata": {
    "tags": []
   },
   "outputs": [],
   "source": [
    "#TODO: Fill in the rest of our seed sources in DOI_list below\n",
    "DOI_list = ['https://doi.org/10.1098/rsta.2017.0357',\n",
    "           'https://doi.org/10.1098/rsta.2017.0359',\n",
    "           'https://doi.org/10.1146/annurev-lawsocsci-041221-023808',\n",
    "           '10.1080/14719037.2022.2048685',\n",
    "           'https://doi.org/10.1145/3476089',\n",
    "           'https://doi.org/10.1162/DAED_a_01922',\n",
    "           'https://doi.org/10.1098/rsta.2017.0364']"
   ]
  },
  {
   "cell_type": "markdown",
   "id": "01eb39e2-b6c0-4f7e-b5fb-1904e78ccb42",
   "metadata": {},
   "source": [
    "### Grab Information for Each Seed Source"
   ]
  },
  {
   "cell_type": "code",
   "execution_count": 4,
   "id": "5e390a31-c0fd-4a35-9a2f-24a678e7d204",
   "metadata": {
    "tags": []
   },
   "outputs": [],
   "source": [
    "#Initializing pyalex client\n",
    "from pyalex import Works, Authors, Venues, Institutions, Concepts\n",
    "import pyalex #The polite pool has much faster and more consistent response times.\n",
    "pyalex.config.email = \"zmintz@utexas.edu\" #To get into the polite pool, you set your email"
   ]
  },
  {
   "cell_type": "code",
   "execution_count": 5,
   "id": "99422f29-d369-4de6-b9e0-9adb714569f0",
   "metadata": {
    "tags": []
   },
   "outputs": [],
   "source": [
    "#Pull list of seed DOIs in OpenAlex API\n",
    "# pipe_separated_DOI_list = \"|\".join(DOI_list)\n",
    "# r = requests.get(f\"https://api.openalex.org/works?filter=doi:{pipe_separated_DOI_list}&per-page=50&mailto=support@openalex.org\")\n",
    "# works = r.json()[\"results\"]"
   ]
  },
  {
   "cell_type": "code",
   "execution_count": 246,
   "id": "874644d2-7840-4116-8b3e-17f66ba410c2",
   "metadata": {
    "tags": []
   },
   "outputs": [
    {
     "name": "stdout",
     "output_type": "stream",
     "text": [
      "Grabbed 7 out of 7 articles\n"
     ]
    }
   ],
   "source": [
    "#Grab citations and references from each seed source\n",
    "grabbed_seed_sources_dicts = Works().filter(doi=pipe_separated_DOI_list, is_oa=True).get()\n",
    "\n",
    "#Check how many we grabbed\n",
    "print(\"Grabbed %d out of %d articles\" % (len(grabbed_seed_sources_dicts), len(DOI_list)))\n",
    "\n",
    "#If we need to investigate which dois didn't get grabbed\n",
    "#grabbed_DOI_list = [dict[\"doi\"] for dict in grabbed_seed_sources_dicts]\n",
    "#grabbed_DOI_list"
   ]
  },
  {
   "cell_type": "markdown",
   "id": "0fd0e68d-71f7-4f7b-a304-8bf4f733b939",
   "metadata": {},
   "source": [
    "### Snapshot of One Work in Seed Source Dictionary \n",
    "JSON viewer: http://jsonviewer.stack.hu/ --> view json in tree here\n",
    "JSON editor: https://jsoneditoronline.org/#left=local.zacayi --> reformat output here\n",
    "\n",
    "Pertinent attributes in dictionary include\n",
    "* id : \"https://openalex.org/W3186947646\"\n",
    "* doi : \"https://doi.org/10.1146/annurev-lawsocsci-041221-023808\"\n",
    "* title : \"Algorithms and Decision-Making in the Public Sector\"\n",
    "* display_name : \"Algorithms and Decision-Making in the Public Sector\"\n",
    "* publication_year : 2021\n",
    "* publication_date : \"2021-10-13\"\n",
    "* ids\n",
    "* primary_location\n",
    "* host_venue\n",
    "* type : \"journal-article\"\n",
    "* open_access\n",
    "* authorships\n",
    "* cited_by_count : 15\n",
    "* biblio\n",
    "* is_retracted : false\n",
    "* is_paratext : false\n",
    "* concepts\n",
    "* mesh\n",
    "* locations\n",
    "* best_oa_location\n",
    "* alternate_host_venues\n",
    "* referenced_works\n",
    "* related_works\n",
    "* ngrams_url : \"https://api.openalex.org/works/W3186947646/ngrams\"\n",
    "* abstract_inverted_index\n",
    "* cited_by_api_url : \"https://api.openalex.org/works?filter=cites:W3186947646\"\n",
    "* counts_by_year\n",
    "* updated_date : \"2023-02-23T16:34:40.366204\"\n",
    "* created_date : \"2021-08-02\""
   ]
  },
  {
   "cell_type": "markdown",
   "id": "d6b7d8c8-42ee-4f0f-9220-c33b983bfb88",
   "metadata": {},
   "source": [
    "## Obtain References and Related Works"
   ]
  },
  {
   "cell_type": "markdown",
   "id": "704ea597-cfba-4e56-929d-56c717037ddd",
   "metadata": {},
   "source": [
    "### Get List of References and Related Works"
   ]
  },
  {
   "cell_type": "code",
   "execution_count": 247,
   "id": "2aa5e07c-9972-4ac8-84dc-b8fd051eb23c",
   "metadata": {},
   "outputs": [
    {
     "name": "stdout",
     "output_type": "stream",
     "text": [
      "Related Works: 70 total, 62 deduped\n",
      "Referenced Works: 353 total, 344 deduped\n"
     ]
    }
   ],
   "source": [
    "#Get referenced works\n",
    "ref_works_id_list = [dict[\"referenced_works\"] for dict in grabbed_seed_sources_dicts]\n",
    "\n",
    "#Get related works\n",
    "related_works_id_list = [dict[\"related_works\"] for dict in grabbed_seed_sources_dicts]\n",
    "\n",
    "#Flatten list of lists and dedupe ids\n",
    "ref_ids = [] #initialize\n",
    "related_ids = []\n",
    "\n",
    "non_deduped_ref = [item for sublist in ref_works_id_list for item in sublist]\n",
    "non_deduped_rel = [item for sublist in related_works_id_list for item in sublist]\n",
    "[ref_ids.append(item) for sublist in ref_works_id_list for item in sublist if item not in ref_ids]\n",
    "[related_ids.append(item) for sublist in related_works_id_list for item in sublist if item not in related_ids]\n",
    "\n",
    "print(\"Related Works: %d total, %d deduped\" % (len(non_deduped_rel), len(related_ids)))\n",
    "print(\"Referenced Works: %d total, %d deduped\" % (len(non_deduped_ref), len(ref_ids)))"
   ]
  },
  {
   "cell_type": "code",
   "execution_count": 248,
   "id": "662b5c92-db34-4f09-a614-bc8d980f2279",
   "metadata": {
    "tags": []
   },
   "outputs": [
    {
     "name": "stdout",
     "output_type": "stream",
     "text": [
      "Total number of Deduped Referenced and Related Works: 406\n"
     ]
    }
   ],
   "source": [
    "#Combine and dedupe the related works and referenced works\n",
    "combined_rel_ref_ids = set(ref_ids + related_ids)\n",
    "print(\"Total number of Deduped Referenced and Related Works:\", len(combined_rel_ref_ids))"
   ]
  },
  {
   "cell_type": "markdown",
   "id": "fae86617-14cd-420f-96ba-339ac3383dfd",
   "metadata": {},
   "source": [
    "### Grab Information for Each Reference"
   ]
  },
  {
   "cell_type": "code",
   "execution_count": 249,
   "id": "2d73516d-9f6c-4bdf-a619-465fba26c4f7",
   "metadata": {},
   "outputs": [],
   "source": [
    "#Pull list of seed DOIs in OpenAlex API\n",
    "# pipe_separated_ref_list = \"|\".join(ref_ids)\n",
    "\n",
    "#OpenAlex API can only handle calls for 50 articles at once\n",
    "pipe_separated_ref_list1 = \"|\".join(ref_ids[0:50])\n",
    "pipe_separated_ref_list2 = \"|\".join(ref_ids[50:100])\n",
    "pipe_separated_ref_list3 = \"|\".join(ref_ids[100:150])\n",
    "pipe_separated_ref_list4 = \"|\".join(ref_ids[150:200])\n",
    "pipe_separated_ref_list5 = \"|\".join(ref_ids[200:250])\n",
    "pipe_separated_ref_list6 = \"|\".join(ref_ids[250:300])\n",
    "pipe_separated_ref_list7 = \"|\".join(ref_ids[300::])"
   ]
  },
  {
   "cell_type": "code",
   "execution_count": 253,
   "id": "12a10542-c0a0-44c3-81aa-ff92124cf793",
   "metadata": {
    "tags": []
   },
   "outputs": [],
   "source": [
    "#OpenAlex is only grabbing ~half of the articles - do not understand why\n",
    "grabbed_ref_works_dict1 = Works().filter(openalex=pipe_separated_ref_list1, is_oa=False).get()"
   ]
  },
  {
   "cell_type": "code",
   "execution_count": 254,
   "id": "6f5269bd-c529-4451-bc5c-8f93a996e8ff",
   "metadata": {
    "tags": []
   },
   "outputs": [
    {
     "name": "stdout",
     "output_type": "stream",
     "text": [
      "Not Grabbed: 25\n"
     ]
    },
    {
     "data": {
      "text/plain": [
       "['https://openalex.org/W2621644951',\n",
       " 'https://openalex.org/W2599165923',\n",
       " 'https://openalex.org/W1583390633',\n",
       " 'https://openalex.org/W2761004239',\n",
       " 'https://openalex.org/W2121508014',\n",
       " 'https://openalex.org/W2117767124',\n",
       " 'https://openalex.org/W2155317500',\n",
       " 'https://openalex.org/W2019075367',\n",
       " 'https://openalex.org/W1996358684',\n",
       " 'https://openalex.org/W1981235228',\n",
       " 'https://openalex.org/W2017481266',\n",
       " 'https://openalex.org/W2032653717',\n",
       " 'https://openalex.org/W2084341220',\n",
       " 'https://openalex.org/W3125353836',\n",
       " 'https://openalex.org/W2607562496',\n",
       " 'https://openalex.org/W1582164576',\n",
       " 'https://openalex.org/W2528072246',\n",
       " 'https://openalex.org/W2014352947',\n",
       " 'https://openalex.org/W1494192115',\n",
       " 'https://openalex.org/W1528117011',\n",
       " 'https://openalex.org/W1515468801',\n",
       " 'https://openalex.org/W1996392459',\n",
       " 'https://openalex.org/W2098614273',\n",
       " 'https://openalex.org/W1534601691',\n",
       " 'https://openalex.org/W2148889331']"
      ]
     },
     "execution_count": 254,
     "metadata": {},
     "output_type": "execute_result"
    }
   ],
   "source": [
    "grabbed_oa_list = [dict[\"id\"] for dict in grabbed_ref_works_dict1]\n",
    "\n",
    "not_grabbed = list(set(ref_ids[0:50]) - set(grabbed_oa_list))\n",
    "print(\"Not Grabbed:\", len(not_grabbed))\n",
    "not_grabbed"
   ]
  },
  {
   "cell_type": "code",
   "execution_count": 255,
   "id": "631ab62e-8db5-4812-8430-8061cfaadfc6",
   "metadata": {
    "tags": []
   },
   "outputs": [
    {
     "name": "stdout",
     "output_type": "stream",
     "text": [
      "Grabbed: 25\n"
     ]
    },
    {
     "data": {
      "text/plain": [
       "['https://openalex.org/W1901616594',\n",
       " 'https://openalex.org/W2132773425',\n",
       " 'https://openalex.org/W1686065478',\n",
       " 'https://openalex.org/W2077494655',\n",
       " 'https://openalex.org/W1994451842',\n",
       " 'https://openalex.org/W2149583356',\n",
       " 'https://openalex.org/W2123992955',\n",
       " 'https://openalex.org/W1975070330',\n",
       " 'https://openalex.org/W2096166601',\n",
       " 'https://openalex.org/W2099436484',\n",
       " 'https://openalex.org/W2088641112',\n",
       " 'https://openalex.org/W1976548852',\n",
       " 'https://openalex.org/W1976237711',\n",
       " 'https://openalex.org/W2162577040',\n",
       " 'https://openalex.org/W2052432121',\n",
       " 'https://openalex.org/W2150363226',\n",
       " 'https://openalex.org/W2165610448',\n",
       " 'https://openalex.org/W1993781022',\n",
       " 'https://openalex.org/W2102124654',\n",
       " 'https://openalex.org/W1965919670',\n",
       " 'https://openalex.org/W1550609238',\n",
       " 'https://openalex.org/W1899305834',\n",
       " 'https://openalex.org/W2000771887',\n",
       " 'https://openalex.org/W2159821153',\n",
       " 'https://openalex.org/W4251425504']"
      ]
     },
     "execution_count": 255,
     "metadata": {},
     "output_type": "execute_result"
    }
   ],
   "source": [
    "print(\"Grabbed:\", len(grabbed_oa_list))\n",
    "grabbed_oa_list"
   ]
  },
  {
   "cell_type": "code",
   "execution_count": null,
   "id": "f91bf3b6-77c7-40eb-99cc-45e838834dda",
   "metadata": {},
   "outputs": [],
   "source": []
  }
 ],
 "metadata": {
  "kernelspec": {
   "display_name": "Python 3 (ipykernel)",
   "language": "python",
   "name": "python3"
  },
  "language_info": {
   "codemirror_mode": {
    "name": "ipython",
    "version": 3
   },
   "file_extension": ".py",
   "mimetype": "text/x-python",
   "name": "python",
   "nbconvert_exporter": "python",
   "pygments_lexer": "ipython3",
   "version": "3.9.13"
  }
 },
 "nbformat": 4,
 "nbformat_minor": 5
}
