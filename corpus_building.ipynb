{
 "cells": [
  {
   "cell_type": "markdown",
   "id": "692d9e51-1fd8-4aa3-bc73-702570e49af5",
   "metadata": {},
   "source": [
    "# Corpus Building Notebook"
   ]
  },
  {
   "cell_type": "code",
   "execution_count": 1,
   "id": "9e9fffc0-731c-4275-976c-bc07a2e83e38",
   "metadata": {
    "tags": []
   },
   "outputs": [],
   "source": [
    "#Install libraries\n",
    "\n",
    "import sys\n",
    "import pandas as pd\n",
    "import numpy as np\n",
    "import matplotlib.pyplot as plt\n",
    "import requests\n",
    "from tqdm import tqdm\n",
    "from collections import Counter"
   ]
  },
  {
   "cell_type": "code",
   "execution_count": 4,
   "id": "71556cc6-b163-42ff-94b7-d18701a9612a",
   "metadata": {
    "tags": []
   },
   "outputs": [],
   "source": [
    "#Installing client - run below command in terminal\n",
    "\n",
    "#pip install pyalex #pyalex client: https://github.com/J535D165/pyalex"
   ]
  },
  {
   "cell_type": "markdown",
   "id": "8bbd03d6-b01f-49db-8366-208a5189508a",
   "metadata": {},
   "source": [
    "## Seed Sources"
   ]
  },
  {
   "cell_type": "markdown",
   "id": "a91efd73-63df-44cf-833a-5c2e908ef01b",
   "metadata": {},
   "source": [
    "### Create and Obtain List of Seed Sources"
   ]
  },
  {
   "cell_type": "code",
   "execution_count": 10,
   "id": "7a7269d5-b510-42d8-baf8-15fb9a5e1d26",
   "metadata": {
    "tags": []
   },
   "outputs": [],
   "source": [
    "#TODO: Fill in the rest of our seed sources in DOI_list below\n",
    "DOI_list = ['http://dx.doi.org/10.1098/rsta.2017.0357',\n",
    "           'http://dx.doi.org/10.1098/rsta.2017.0359',\n",
    "           'https://doi.org/10.1146/annurev-lawsocsci-041221-023808',\n",
    "           '10.1080/14719037.2022.2048685',\n",
    "           'https://doi.org/10.1145/3476089',\n",
    "           'https://doi.org/10.1162/DAED_a_01922',\n",
    "           'http://dx.doi.org/10.1098/rsta.2017.0364']"
   ]
  },
  {
   "cell_type": "markdown",
   "id": "01eb39e2-b6c0-4f7e-b5fb-1904e78ccb42",
   "metadata": {},
   "source": [
    "### Grab Information for Each Seed Source"
   ]
  },
  {
   "cell_type": "code",
   "execution_count": 12,
   "id": "5e390a31-c0fd-4a35-9a2f-24a678e7d204",
   "metadata": {
    "tags": []
   },
   "outputs": [],
   "source": [
    "#Initializing pyalex client\n",
    "from pyalex import Works, Authors, Venues, Institutions, Concepts\n",
    "import pyalex #The polite pool has much faster and more consistent response times.\n",
    "pyalex.config.email = \"zmintz@utexas.edu\" #To get into the polite pool, you set your email"
   ]
  },
  {
   "cell_type": "code",
   "execution_count": 13,
   "id": "99422f29-d369-4de6-b9e0-9adb714569f0",
   "metadata": {
    "tags": []
   },
   "outputs": [],
   "source": [
    "#Pull list of seed DOIs in OpenAlex API\n",
    "pipe_separated_DOI_list = \"|\".join(DOI_list)\n",
    "r = requests.get(f\"https://api.openalex.org/works?filter=doi:{pipe_separated_DOI_list}&per-page=50&mailto=support@openalex.org\")\n",
    "works = r.json()[\"results\"]"
   ]
  },
  {
   "cell_type": "code",
   "execution_count": 16,
   "id": "874644d2-7840-4116-8b3e-17f66ba410c2",
   "metadata": {
    "tags": []
   },
   "outputs": [
    {
     "data": {
      "text/plain": [
       "4"
      ]
     },
     "execution_count": 16,
     "metadata": {},
     "output_type": "execute_result"
    }
   ],
   "source": [
    "#Grab citations and references from each seed source\n",
    "grabbed_seed_sources = Works().filter(doi=pipe_separated_DOI_list, is_oa=True).get()\n",
    "len(grabbed_seed_sources)"
   ]
  },
  {
   "cell_type": "markdown",
   "id": "0fd0e68d-71f7-4f7b-a304-8bf4f733b939",
   "metadata": {},
   "source": [
    "### Snapshot of One Work in Seed Source Dictionary \n",
    "Pertinent attributes in dictionary include\n",
    "* id : \"https://openalex.org/W3186947646\"\n",
    "* doi : \"https://doi.org/10.1146/annurev-lawsocsci-041221-023808\"\n",
    "* title : \"Algorithms and Decision-Making in the Public Sector\"\n",
    "* display_name : \"Algorithms and Decision-Making in the Public Sector\"\n",
    "* publication_year : 2021\n",
    "* publication_date : \"2021-10-13\"\n",
    "* ids\n",
    "* primary_location\n",
    "* host_venue\n",
    "* type : \"journal-article\"\n",
    "* open_access\n",
    "* authorships\n",
    "* cited_by_count : 15\n",
    "* biblio\n",
    "* is_retracted : false\n",
    "* is_paratext : false\n",
    "* concepts\n",
    "* mesh\n",
    "* locations\n",
    "* best_oa_location\n",
    "* alternate_host_venues\n",
    "* referenced_works\n",
    "* related_works\n",
    "* ngrams_url : \"https://api.openalex.org/works/W3186947646/ngrams\"\n",
    "* abstract_inverted_index\n",
    "* cited_by_api_url : \"https://api.openalex.org/works?filter=cites:W3186947646\"\n",
    "* counts_by_year\n",
    "* updated_date : \"2023-02-23T16:34:40.366204\"\n",
    "* created_date : \"2021-08-02\""
   ]
  },
  {
   "cell_type": "markdown",
   "id": "d6b7d8c8-42ee-4f0f-9220-c33b983bfb88",
   "metadata": {},
   "source": [
    "## Obtain References and Related Works"
   ]
  },
  {
   "cell_type": "markdown",
   "id": "704ea597-cfba-4e56-929d-56c717037ddd",
   "metadata": {},
   "source": [
    "### Get List of References and Related Works"
   ]
  },
  {
   "cell_type": "code",
   "execution_count": null,
   "id": "2aa5e07c-9972-4ac8-84dc-b8fd051eb23c",
   "metadata": {},
   "outputs": [],
   "source": []
  },
  {
   "cell_type": "markdown",
   "id": "fae86617-14cd-420f-96ba-339ac3383dfd",
   "metadata": {},
   "source": [
    "### Grab Information for Each Reference"
   ]
  },
  {
   "cell_type": "code",
   "execution_count": null,
   "id": "cc08e7a7-08f6-4b66-981e-693c4b375d2a",
   "metadata": {},
   "outputs": [],
   "source": []
  }
 ],
 "metadata": {
  "kernelspec": {
   "display_name": "Python 3 (ipykernel)",
   "language": "python",
   "name": "python3"
  },
  "language_info": {
   "codemirror_mode": {
    "name": "ipython",
    "version": 3
   },
   "file_extension": ".py",
   "mimetype": "text/x-python",
   "name": "python",
   "nbconvert_exporter": "python",
   "pygments_lexer": "ipython3",
   "version": "3.9.13"
  }
 },
 "nbformat": 4,
 "nbformat_minor": 5
}
