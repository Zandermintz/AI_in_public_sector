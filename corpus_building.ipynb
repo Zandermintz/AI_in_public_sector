{
 "cells": [
  {
   "cell_type": "markdown",
   "id": "692d9e51-1fd8-4aa3-bc73-702570e49af5",
   "metadata": {},
   "source": [
    "# Corpus Building Notebook"
   ]
  },
  {
   "cell_type": "code",
   "execution_count": 1,
   "id": "9e9fffc0-731c-4275-976c-bc07a2e83e38",
   "metadata": {
    "tags": []
   },
   "outputs": [],
   "source": [
    "#Install libraries\n",
    "\n",
    "import sys\n",
    "import pandas as pd\n",
    "import numpy as np\n",
    "import matplotlib.pyplot as plt\n",
    "import requests\n",
    "from tqdm import tqdm\n",
    "from collections import Counter"
   ]
  },
  {
   "cell_type": "code",
   "execution_count": 4,
   "id": "71556cc6-b163-42ff-94b7-d18701a9612a",
   "metadata": {
    "tags": []
   },
   "outputs": [],
   "source": [
    "#Installing client - run below command in terminal\n",
    "\n",
    "#pip install pyalex #pyalex client: https://github.com/J535D165/pyalex"
   ]
  },
  {
   "cell_type": "markdown",
   "id": "8bbd03d6-b01f-49db-8366-208a5189508a",
   "metadata": {
    "tags": []
   },
   "source": [
    "## Seed Sources"
   ]
  },
  {
   "cell_type": "markdown",
   "id": "a91efd73-63df-44cf-833a-5c2e908ef01b",
   "metadata": {},
   "source": [
    "### Create and Obtain List of Seed Sources"
   ]
  },
  {
   "cell_type": "code",
   "execution_count": 2,
   "id": "7a7269d5-b510-42d8-baf8-15fb9a5e1d26",
   "metadata": {
    "tags": []
   },
   "outputs": [],
   "source": [
    "#TODO: Fill in the rest of our seed sources in DOI_list below\n",
    "DOI_list = ['https://doi.org/10.1098/rsta.2017.0357',\n",
    "           'https://doi.org/10.1098/rsta.2017.0359',\n",
    "           'https://doi.org/10.1146/annurev-lawsocsci-041221-023808',\n",
    "           '10.1080/14719037.2022.2048685',\n",
    "           'https://doi.org/10.1145/3476089',\n",
    "           'https://doi.org/10.1162/DAED_a_01922',\n",
    "           'https://doi.org/10.1098/rsta.2017.0364']"
   ]
  },
  {
   "cell_type": "markdown",
   "id": "01eb39e2-b6c0-4f7e-b5fb-1904e78ccb42",
   "metadata": {},
   "source": [
    "### Grab Information for Each Seed Source"
   ]
  },
  {
   "cell_type": "code",
   "execution_count": 5,
   "id": "5e390a31-c0fd-4a35-9a2f-24a678e7d204",
   "metadata": {
    "tags": []
   },
   "outputs": [],
   "source": [
    "#Initializing pyalex client\n",
    "from pyalex import Works, Authors, Venues, Institutions, Concepts\n",
    "import pyalex #The polite pool has much faster and more consistent response times.\n",
    "pyalex.config.email = \"zmintz@utexas.edu\" #To get into the polite pool, you set your email"
   ]
  },
  {
   "cell_type": "code",
   "execution_count": 6,
   "id": "99422f29-d369-4de6-b9e0-9adb714569f0",
   "metadata": {
    "tags": []
   },
   "outputs": [],
   "source": [
    "#Pull list of seed DOIs in OpenAlex API\n",
    "# pipe_separated_DOI_list = \"|\".join(DOI_list)\n",
    "# r = requests.get(f\"https://api.openalex.org/works?filter=doi:{pipe_separated_DOI_list}&per-page=50&mailto=support@openalex.org\")\n",
    "# works = r.json()[\"results\"]"
   ]
  },
  {
   "cell_type": "code",
   "execution_count": 8,
   "id": "874644d2-7840-4116-8b3e-17f66ba410c2",
   "metadata": {
    "tags": []
   },
   "outputs": [
    {
     "name": "stdout",
     "output_type": "stream",
     "text": [
      "Grabbed 7 out of 7 articles\n"
     ]
    }
   ],
   "source": [
    "#Pull list of seed DOIs in OpenAlex API\n",
    "pipe_separated_DOI_list = \"|\".join(DOI_list)\n",
    "\n",
    "#Grab citations and references from each seed source\n",
    "grabbed_seed_sources_dicts = Works().filter(doi=pipe_separated_DOI_list, is_oa=True).get()\n",
    "\n",
    "#Check how many we grabbed\n",
    "print(\"Grabbed %d out of %d articles\" % (len(grabbed_seed_sources_dicts), len(DOI_list)))\n",
    "\n",
    "#If we need to investigate which dois didn't get grabbed\n",
    "#grabbed_DOI_list = [dict[\"doi\"] for dict in grabbed_seed_sources_dicts]\n",
    "#grabbed_DOI_list"
   ]
  },
  {
   "cell_type": "markdown",
   "id": "0fd0e68d-71f7-4f7b-a304-8bf4f733b939",
   "metadata": {},
   "source": [
    "### Snapshot of One Work in Seed Source Dictionary \n",
    "JSON viewer: http://jsonviewer.stack.hu/ --> view json in tree here\n",
    "JSON editor: https://jsoneditoronline.org/#left=local.zacayi --> reformat output here\n",
    "\n",
    "Pertinent attributes in dictionary include\n",
    "* id : \"https://openalex.org/W3186947646\"\n",
    "* doi : \"https://doi.org/10.1146/annurev-lawsocsci-041221-023808\"\n",
    "* title : \"Algorithms and Decision-Making in the Public Sector\"\n",
    "* display_name : \"Algorithms and Decision-Making in the Public Sector\"\n",
    "* publication_year : 2021\n",
    "* publication_date : \"2021-10-13\"\n",
    "* ids\n",
    "* primary_location\n",
    "* host_venue\n",
    "* type : \"journal-article\"\n",
    "* open_access\n",
    "* authorships\n",
    "* cited_by_count : 15\n",
    "* biblio\n",
    "* is_retracted : false\n",
    "* is_paratext : false\n",
    "* concepts\n",
    "* mesh\n",
    "* locations\n",
    "* best_oa_location\n",
    "* alternate_host_venues\n",
    "* referenced_works\n",
    "* related_works\n",
    "* ngrams_url : \"https://api.openalex.org/works/W3186947646/ngrams\"\n",
    "* abstract_inverted_index\n",
    "* cited_by_api_url : \"https://api.openalex.org/works?filter=cites:W3186947646\"\n",
    "* counts_by_year\n",
    "* updated_date : \"2023-02-23T16:34:40.366204\"\n",
    "* created_date : \"2021-08-02\""
   ]
  },
  {
   "cell_type": "markdown",
   "id": "d6b7d8c8-42ee-4f0f-9220-c33b983bfb88",
   "metadata": {
    "tags": []
   },
   "source": [
    "## Obtain References and Related Works"
   ]
  },
  {
   "cell_type": "markdown",
   "id": "704ea597-cfba-4e56-929d-56c717037ddd",
   "metadata": {},
   "source": [
    "### Get List of References and Related Works"
   ]
  },
  {
   "cell_type": "code",
   "execution_count": 9,
   "id": "2aa5e07c-9972-4ac8-84dc-b8fd051eb23c",
   "metadata": {},
   "outputs": [
    {
     "name": "stdout",
     "output_type": "stream",
     "text": [
      "Related Works: 70 total, 62 deduped\n",
      "Referenced Works: 353 total, 344 deduped\n"
     ]
    }
   ],
   "source": [
    "#Get referenced works\n",
    "ref_works_id_list = [dict[\"referenced_works\"] for dict in grabbed_seed_sources_dicts]\n",
    "\n",
    "#Get related works\n",
    "related_works_id_list = [dict[\"related_works\"] for dict in grabbed_seed_sources_dicts]\n",
    "\n",
    "#Flatten list of lists and dedupe ids\n",
    "ref_ids = [] #initialize\n",
    "related_ids = []\n",
    "\n",
    "non_deduped_ref = [item for sublist in ref_works_id_list for item in sublist]\n",
    "non_deduped_rel = [item for sublist in related_works_id_list for item in sublist]\n",
    "[ref_ids.append(item) for sublist in ref_works_id_list for item in sublist if item not in ref_ids]\n",
    "[related_ids.append(item) for sublist in related_works_id_list for item in sublist if item not in related_ids]\n",
    "\n",
    "print(\"Related Works: %d total, %d deduped\" % (len(non_deduped_rel), len(related_ids)))\n",
    "print(\"Referenced Works: %d total, %d deduped\" % (len(non_deduped_ref), len(ref_ids)))"
   ]
  },
  {
   "cell_type": "code",
   "execution_count": 10,
   "id": "662b5c92-db34-4f09-a614-bc8d980f2279",
   "metadata": {
    "tags": []
   },
   "outputs": [
    {
     "name": "stdout",
     "output_type": "stream",
     "text": [
      "Total number of Deduped Referenced and Related Works: 406\n"
     ]
    }
   ],
   "source": [
    "#Combine and dedupe the related works and referenced works\n",
    "combined_rel_ref_ids = set(ref_ids + related_ids)\n",
    "print(\"Total number of Deduped Referenced and Related Works:\", len(combined_rel_ref_ids))"
   ]
  },
  {
   "cell_type": "markdown",
   "id": "fae86617-14cd-420f-96ba-339ac3383dfd",
   "metadata": {},
   "source": [
    "### Grab Information for Each Reference"
   ]
  },
  {
   "cell_type": "code",
   "execution_count": 11,
   "id": "2d73516d-9f6c-4bdf-a619-465fba26c4f7",
   "metadata": {},
   "outputs": [],
   "source": [
    "#Pull list of seed DOIs in OpenAlex API\n",
    "# pipe_separated_ref_list = \"|\".join(ref_ids)\n",
    "\n",
    "#OpenAlex API can only handle calls for 50 articles at once\n",
    "pipe_separated_ref_list1 = \"|\".join(ref_ids[0:50])\n",
    "pipe_separated_ref_list2 = \"|\".join(ref_ids[50:100])\n",
    "pipe_separated_ref_list3 = \"|\".join(ref_ids[100:150])\n",
    "pipe_separated_ref_list4 = \"|\".join(ref_ids[150:200])\n",
    "pipe_separated_ref_list5 = \"|\".join(ref_ids[200:250])\n",
    "pipe_separated_ref_list6 = \"|\".join(ref_ids[250:300])\n",
    "pipe_separated_ref_list7 = \"|\".join(ref_ids[300::])"
   ]
  },
  {
   "cell_type": "code",
   "execution_count": 16,
   "id": "12a10542-c0a0-44c3-81aa-ff92124cf793",
   "metadata": {
    "tags": []
   },
   "outputs": [
    {
     "data": {
      "text/plain": [
       "50"
      ]
     },
     "execution_count": 16,
     "metadata": {},
     "output_type": "execute_result"
    }
   ],
   "source": [
    "#OpenAlex is only grabbing ~half of the articles due to pagination \n",
    "\n",
    "#Not sure how to change this using the python wrapper\n",
    "# grabbed_ref_works_dict1 = Works().filter(openalex=pipe_separated_ref_list1, is_oa=False, per_page=200).get()\n",
    "\n",
    "r = requests.get(f\"https://api.openalex.org/works?filter=openalex:{pipe_separated_ref_list1}&per-page=200&mailto=support@openalex.org\")\n",
    "works = r.json()[\"results\"]\n",
    "len(works)"
   ]
  },
  {
   "cell_type": "markdown",
   "id": "5f3e212d-9b0e-4494-a2e1-a85283f3b5a9",
   "metadata": {},
   "source": [
    "# Functions for Corpus Building"
   ]
  },
  {
   "cell_type": "code",
   "execution_count": 94,
   "id": "f91bf3b6-77c7-40eb-99cc-45e838834dda",
   "metadata": {},
   "outputs": [
    {
     "data": {
      "text/plain": [
       "7"
      ]
     },
     "execution_count": 94,
     "metadata": {},
     "output_type": "execute_result"
    }
   ],
   "source": [
    "import math\n",
    "\n",
    "def openalex(article_list, id_type=\"doi\"):\n",
    "    article_batches = batch(article_list)\n",
    "    results = []\n",
    "    #iterate through batches of 50 articles \n",
    "    for i in article_batches:\n",
    "        piped_article_batch='|'.join(i)\n",
    "        url=f'https://api.openalex.org/works?filter={id_type}:{piped_article_batch}&per-page=50&cursor=*&mailto=support@openalex.org'\n",
    "        req=requests.get(url).json()\n",
    "        results += req['results']\n",
    "    if len(results) == len(article_list):\n",
    "        return results\n",
    "    else:\n",
    "        # print(\"Number of articles in (%s) does not equal number returned (%s)\" % (len(article_list), len(results)))\n",
    "        raise Exception(\"Number of articles in (%s) does not equal number returned (%s)\" % (len(article_list), len(results))) # Make sure all results are returned; otherwise, raise errors.\n",
    "   \n",
    "    \n",
    "def batch(articles):\n",
    "    batched_articles = []\n",
    "    for i in range(0, len(articles), 50):\n",
    "        batched_articles += [articles[i:i + 50]]\n",
    "    return batched_articles"
   ]
  },
  {
   "cell_type": "code",
   "execution_count": 108,
   "id": "c37a1bd7-a012-4940-8d16-73ccd4c5d3ca",
   "metadata": {},
   "outputs": [],
   "source": [
    "def grab_references(openalex_list):\n",
    "    #Get referenced works\n",
    "    ref_works_id_list = [dict[\"referenced_works\"] for dict in openalex_list]\n",
    "    print(\"num of ref works %s\" % (len(ref_works_id_list)))\n",
    "\n",
    "    #Get related works\n",
    "    related_works_id_list = [dict[\"related_works\"] for dict in openalex_list]\n",
    "    print(\"num of rel works %s\" % (len(related_works_id_list)))\n",
    "\n",
    "    #Flatten list of lists and dedupe ids\n",
    "    ref_ids = [] #initialize\n",
    "    related_ids = []\n",
    "\n",
    "    non_deduped_ref = [item for sublist in ref_works_id_list for item in sublist]\n",
    "    non_deduped_rel = [item for sublist in related_works_id_list for item in sublist]\n",
    "    [ref_ids.append(item) for sublist in ref_works_id_list for item in sublist if item not in ref_ids]\n",
    "    [related_ids.append(item) for sublist in related_works_id_list for item in sublist if item not in related_ids]\n",
    "\n",
    "    print(\"Related Works: %d total, %d deduped\" % (len(non_deduped_rel), len(related_ids)))\n",
    "    print(\"Referenced Works: %d total, %d deduped\" % (len(non_deduped_ref), len(ref_ids)))\n",
    "    \n",
    "    combined_rel_ref_ids = set(ref_ids + related_ids)\n",
    "    print(\"Total number of Deduped Referenced and Related Works:\", len(combined_rel_ref_ids))\n",
    "    \n",
    "    #dedupe the seed sources from references\n",
    "    return openalex(list(combined_rel_ref_ids), id_type=\"openalex\") "
   ]
  },
  {
   "cell_type": "code",
   "execution_count": 107,
   "id": "449f8b4e-b92c-481d-aa3b-a52e9de5b902",
   "metadata": {},
   "outputs": [
    {
     "name": "stdout",
     "output_type": "stream",
     "text": [
      "Related Works: 70 total, 62 deduped\n",
      "Referenced Works: 353 total, 344 deduped\n",
      "Total number of Deduped Referenced and Related Works: 406\n"
     ]
    }
   ],
   "source": [
    "full_seed_src = [\"10.1162/daed_a_01922\",\n",
    "                 \"10.1098/rsta.2017.0364\",\n",
    "                 \"10.1007/978-3-030-92644-1\",\n",
    "                 # \"10.2307/48662048\", \n",
    "                 \"10.1111/puar.12979\",\n",
    "                 \"10.3390/pr8111374\",\n",
    "                 \"10.1002/poi3.165\",\n",
    "                 \"10.1145/3476089\",\n",
    "                 \"10.1080/14719037.2022.2048685\",\n",
    "                 \"10.1146/annurev-lawsocsci-041221-023808\",\n",
    "                 # \"10.2307/26601757\",\n",
    "                 # \"10.2307/26601763\",\n",
    "                 \"10.1177/08944393211034087\",\n",
    "                 \"10.1145/3025453.3025579\",\n",
    "                 \"10.1016/j.giq.2005.11.005\",\n",
    "                 \"10.1016/j.techsoc.2016.07.001\",\n",
    "                 \"10.3390/su11205791\",\n",
    "                 # \"10.2307/27170531\"\n",
    "                ]\n",
    "\n",
    "full_seed_openalex = openalex(full_seed_src)\n",
    "# len(full_seed_openalex)\n",
    "full_ref_openalex = grab_references(full_seed_openalex)"
   ]
  },
  {
   "cell_type": "code",
   "execution_count": null,
   "id": "3576e666-9c85-4130-9b5f-1b3f68934498",
   "metadata": {},
   "outputs": [],
   "source": []
  }
 ],
 "metadata": {
  "kernelspec": {
   "display_name": "Python 3 (ipykernel)",
   "language": "python",
   "name": "python3"
  },
  "language_info": {
   "codemirror_mode": {
    "name": "ipython",
    "version": 3
   },
   "file_extension": ".py",
   "mimetype": "text/x-python",
   "name": "python",
   "nbconvert_exporter": "python",
   "pygments_lexer": "ipython3",
   "version": "3.9.13"
  }
 },
 "nbformat": 4,
 "nbformat_minor": 5
}
