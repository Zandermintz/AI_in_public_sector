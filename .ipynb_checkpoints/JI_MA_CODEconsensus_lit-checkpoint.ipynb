{
 "cells": [
  {
   "cell_type": "code",
   "execution_count": null,
   "id": "a04e8581-6dad-4eb8-8552-78add9a28f7c",
   "metadata": {},
   "outputs": [],
   "source": [
    "SCRIPT PURPOSE\n",
    "\n",
    "Obtain consensus literature from Scopus"
   ]
  },
  {
   "cell_type": "code",
   "execution_count": null,
   "id": "23879a03-d92a-4e00-9813-ca59896922b9",
   "metadata": {},
   "outputs": [],
   "source": [
    "import sys\n",
    "from elsapy.elsclient import ElsClient\n",
    "from elsapy.elsprofile import ElsAuthor, ElsAffil\n",
    "from elsapy.elsdoc import FullDoc, AbsDoc\n",
    "from elsapy.elssearch import ElsSearch\n",
    "from tqdm import tqdm\n",
    "import pandas as pd\n",
    "from collections import Counter"
   ]
  },
  {
   "cell_type": "code",
   "execution_count": null,
   "id": "36800d8d-8003-4826-a19b-10b8b362a19a",
   "metadata": {},
   "outputs": [],
   "source": [
    "## Initialize client\n",
    "client = ElsClient('xxxx')"
   ]
  },
  {
   "cell_type": "code",
   "execution_count": null,
   "id": "b23228d1-88ee-443e-a0da-45605575ae07",
   "metadata": {},
   "outputs": [],
   "source": [
    "doi_list=['10.1016/j.poetic.2007.01.001',\n",
    "          '10.1177/0003122410388488',\n",
    "          '10.15195/v3.a45',\n",
    "          '10.1086/701298',\n",
    "          '10.1086/704370',\n",
    "          '10.1162/qss_a_00017',\n",
    "          '10.1146/annurev-soc-121919-054621',\n",
    "'10.1140/epjds/s13688-016-0066-4',\n",
    "'10.1177/2378023117738903',\n",
    "'10.1371/journal.pone.0066212',\n",
    "'10.1038/s41562-017-0079',\n",
    "'10.1073/pnas.1613580114',\n",
    "'10.1038/nclimate2875',\n",
    "'10.1073/pnas.1509433112',\n",
    "'10.15195/v2.a9',\n",
    "'10.1016/j.ssresearch.2010.10.002',\n",
    "'10.1093/sf/sov004',\n",
    "'10.1177/0003122415601618',\n",
    "'10.1073/pnas.1509757112',\n",
    "'10.1073/pnas.1800485115',\n",
    "'10.1038/s41597-019-0033-6',\n",
    "'10.1177/2329496514540131',\n",
    "'10.1126/science.1240474',\n",
    "'10.1016/j.socnet.2015.02.006',\n",
    "'10.15195/v1.a15',\n",
    "'10.1126/science.1136099',\n",
    "'10.1126/science.1201765',\n",
    "'10.1177/0003122412463574',\n",
    "'10.1016/j.ssresearch.2015.06.008',\n",
    "          # Methods\n",
    "          '10.1016/j.respol.2014.02.005',\n",
    "          '10.15195/v3.a32',\n",
    "          '10.1073/pnas.1719792115',\n",
    "          '10.1162/tacl_a_00028',\n",
    "          '10.1016/j.joi.2018.09.002',\n",
    "          '10.1162/qss_a_00019',\n",
    "          '10.18653/v1/2020.acl-main.447',\n",
    "          '10.1007/s11192-020-03690-4',\n",
    "]"
   ]
  },
  {
   "cell_type": "code",
   "execution_count": null,
   "id": "b409f5de-66c2-4cc4-a2e7-73f28a323c4f",
   "metadata": {},
   "outputs": [],
   "source": [
    "lit_list=[]\n",
    "for doi in doi_list:\n",
    "    doc_srch = ElsSearch('doi('+doi+')','scopus')\n",
    "    doc_srch.execute(client, get_all = True) # get_all parameter will get all the\n",
    "    lit_list+=doc_srch.results\n",
    "lit_list=[lit for lit in lit_list if 'error' not in lit.keys()]\n",
    "len(lit_list)"
   ]
  },
  {
   "cell_type": "code",
   "execution_count": null,
   "id": "2a86c4e9-0ed2-4fe4-be00-50123c4f16b0",
   "metadata": {},
   "outputs": [],
   "source": [
    "seed_ref_full=[]"
   ]
  },
  {
   "cell_type": "code",
   "execution_count": null,
   "id": "c6624dfa-366b-445e-8dad-e51343b401a2",
   "metadata": {},
   "outputs": [],
   "source": [
    "for scp in tqdm([s['dc:identifier'] for s in lit_list]):\n",
    "    scp=scp.split(':')[1]\n",
    "    if scp not in [s['coredata']['dc:identifier'].split(':')[1] for s in seed_ref_full]:\n",
    "        scp_doc = AbsDoc(scp_id = scp)\n",
    "        if scp_doc.read(client): # Successful = True; otherwise = False.\n",
    "            seed_ref_full+=[scp_doc.data]\n",
    "        else:\n",
    "            pass # Pass none results.\n",
    "    else:\n",
    "        pass # Pass retrived."
   ]
  },
  {
   "cell_type": "code",
   "execution_count": null,
   "id": "56bfe077-f1af-48bf-8894-7a5b1ebaed18",
   "metadata": {},
   "outputs": [],
   "source": [
    "df_seed_ref_full=pd.DataFrame(seed_ref_full)\n",
    "df_seed_ref_full.to_pickle('../data/df_seed_ref_full.pkl.bz2', compression='bz2')"
   ]
  },
  {
   "cell_type": "code",
   "execution_count": null,
   "id": "1128d1e3-6d3a-4c34-809c-d11de84ee978",
   "metadata": {},
   "outputs": [],
   "source": [
    "eid_list=[s['eid'] for s in lit_list]\n",
    "citing_ref_list=[]\n",
    "for eid in tqdm(eid_list):\n",
    "    doc_srch = ElsSearch('refeid('+eid+')','scopus')\n",
    "    doc_srch.execute(client, get_all = True)\n",
    "    citing_ref_list+=doc_srch.results"
   ]
  },
  {
   "cell_type": "code",
   "execution_count": null,
   "id": "e987a887-9448-4f4b-984b-6b9f7e60f32b",
   "metadata": {},
   "outputs": [],
   "source": [
    "df_citing_ref_list=pd.DataFrame(citing_ref_list)\n",
    "df_citing_ref_list"
   ]
  },
  {
   "cell_type": "code",
   "execution_count": null,
   "id": "44ec4f71-0be5-4e62-a921-a3b8cc780bd3",
   "metadata": {},
   "outputs": [],
   "source": [
    "df_citing_ref_list.to_pickle('../data/intermediary/df_citing_ref_list.pkl.bz2', compression='bz2')"
   ]
  },
  {
   "cell_type": "code",
   "execution_count": null,
   "id": "c83ac6b0-49f7-4114-871d-ebab494c7e66",
   "metadata": {},
   "outputs": [],
   "source": [
    "Get detailed info (include citations) of citing references"
   ]
  },
  {
   "cell_type": "code",
   "execution_count": null,
   "id": "659191c1-e113-4d75-9980-1d4bc6635e0a",
   "metadata": {},
   "outputs": [],
   "source": [
    "## Initialize client, change API key.\n",
    "client = ElsClient('xxxx')"
   ]
  },
  {
   "cell_type": "code",
   "execution_count": null,
   "id": "7e78e31c-8f99-48be-a87f-dd08238805df",
   "metadata": {},
   "outputs": [],
   "source": [
    "df_citing_ref_list=pd.read_pickle('../data/intermediary/df_citing_ref_list.pkl.bz2', compression='bz2')\n",
    "citing_ref_full=[]"
   ]
  },
  {
   "cell_type": "code",
   "execution_count": null,
   "id": "c9bc2c5a-d914-4875-99ab-c1cf57b50af4",
   "metadata": {},
   "outputs": [],
   "source": [
    "for scp in tqdm(df_citing_ref_list['dc:identifier']):\n",
    "    scp=scp.split(':')[1]\n",
    "    if scp not in [s['coredata']['dc:identifier'].split(':')[1] for s in citing_ref_full]:\n",
    "        scp_doc = AbsDoc(scp_id = scp)\n",
    "        if scp_doc.read(client): # Successful = True; otherwise = False.\n",
    "            citing_ref_full+=[scp_doc.data]\n",
    "        else:\n",
    "            pass # Pass none results.\n",
    "    else:\n",
    "        pass # Pass retrived."
   ]
  },
  {
   "cell_type": "code",
   "execution_count": null,
   "id": "82d3f847-4eae-437e-a591-49eb88c8d51f",
   "metadata": {},
   "outputs": [],
   "source": [
    "df_citing_ref_full=pd.DataFrame(citing_ref_full)\n",
    "df_citing_ref_full.to_pickle('../data/df_citing_ref_full.pkl.bz2', compression='bz2')"
   ]
  },
  {
   "cell_type": "code",
   "execution_count": null,
   "id": "bfeefa83-b7ca-4369-92a5-afbd8ec463f0",
   "metadata": {},
   "outputs": [],
   "source": [
    "ANALYZE CORPUS"
   ]
  },
  {
   "cell_type": "code",
   "execution_count": null,
   "id": "149394f1-cb6f-46b6-96e3-cdfc3969ce9f",
   "metadata": {},
   "outputs": [],
   "source": [
    "df_seed_ref_full=pd.read_pickle('../data/df_seed_ref_full.pkl.bz2')\n",
    "df_citing_ref_full=pd.read_pickle('../data/df_citing_ref_full.pkl.bz2')"
   ]
  },
  {
   "cell_type": "code",
   "execution_count": null,
   "id": "f8b1c314-8a78-4ef9-a1ef-4664eb6ae810",
   "metadata": {},
   "outputs": [],
   "source": [
    "df_consensus_corpus=pd.concat([df_seed_ref_full, df_citing_ref_full], axis=0, ignore_index=True)"
   ]
  },
  {
   "cell_type": "code",
   "execution_count": null,
   "id": "53d4542b-0ed4-4e39-a0d0-379d790da2fb",
   "metadata": {},
   "outputs": [],
   "source": [
    "df_consensus_corpus.loc[3]"
   ]
  },
  {
   "cell_type": "code",
   "execution_count": null,
   "id": "496d67fd-7e4e-40bd-8b23-d47773581a95",
   "metadata": {},
   "outputs": [],
   "source": [
    "import networkx as nx"
   ]
  },
  {
   "cell_type": "code",
   "execution_count": null,
   "id": "b17f12ba-1292-45cc-aa35-040c8dfe7368",
   "metadata": {},
   "outputs": [],
   "source": [
    "edge_list=[]\n",
    "for index in df_consensus_corpus.index:\n",
    "    ego_id=df_consensus_corpus.loc[index]['coredata']['dc:identifier'].split(':')[1]\n",
    "    ref_list=df_consensus_corpus.loc[index]['item']['bibrecord']['tail']['bibliography']['reference']\n",
    "    if type(ref_list)==list: # Has multiple references.\n",
    "        ref_id_list=[s['ref-info']['refd-itemidlist']['itemid'] for s in ref_list]\n",
    "        for ref_id in ref_id_list:\n",
    "            if type(ref_id)==dict: # Has one id.\n",
    "                cited_id=ref_id['$']\n",
    "            elif type(ref_id)==list: # Has multiple ID.\n",
    "                cited_id=[t['$'] for t in ref_id if t['@idtype']=='SGR'][0]\n",
    "            else: # Exceptions.\n",
    "                raise\n",
    "            edge_list+=[(ego_id, cited_id)]\n",
    "    elif type(ref_list)==dict: # Has only one reference.\n",
    "        ref_id=ref_list['ref-info']['refd-itemidlist']['itemid']\n",
    "        if type(ref_id)==dict: # Has one id.\n",
    "            cited_id=ref_id['$']\n",
    "        elif type(ref_id)==list: # Has multiple ID.\n",
    "            cited_id=[t['$'] for t in ref_id if t['@idtype']=='SGR'][0]\n",
    "        else: # Exceptions.\n",
    "            raise\n",
    "        edge_list+=[(ego_id, cited_id)]\n",
    "    else:\n",
    "        raise"
   ]
  },
  {
   "cell_type": "code",
   "execution_count": null,
   "id": "b3ed0e4d-947d-4805-8c34-8049e749b118",
   "metadata": {},
   "outputs": [],
   "source": [
    "g=nx.DiGraph()\n",
    "edge_list_count=Counter(edge_list)\n",
    "for edge in tqdm(edge_list_count):\n",
    "    g.add_edge(edge[0], edge[1], weight=edge_list_count[edge])"
   ]
  },
  {
   "cell_type": "code",
   "execution_count": null,
   "id": "4ee299b4-7754-4e66-bec5-6f548fa73830",
   "metadata": {},
   "outputs": [],
   "source": [
    "Create a SGR-Title index table."
   ]
  },
  {
   "cell_type": "code",
   "execution_count": null,
   "id": "f4681398-c85b-4078-ac83-4f460254e4a4",
   "metadata": {},
   "outputs": [],
   "source": [
    "# Add seed article.\n",
    "df_sgr_title=pd.DataFrame([(s['dc:identifier'].split(':')[1], s['dc:title']) for s in df_consensus_corpus['coredata']]).drop_duplicates().rename(columns={0:'sgr', 1:'title'})\n",
    "df_sgr_title.sample(3)"
   ]
  },
  {
   "cell_type": "code",
   "execution_count": null,
   "id": "6d945e0a-e40f-4233-b782-83bb5fefc186",
   "metadata": {},
   "outputs": [],
   "source": [
    "df_citation_sgr_title=pd.DataFrame()\n",
    "for index in tqdm(df_consensus_corpus.index):\n",
    "    ref_list=df_consensus_corpus.loc[index]['item']['bibrecord']['tail']['bibliography']['reference']\n",
    "    ref_scp_id_list=[]\n",
    "    if type(ref_list)==list: # Has multiple references.\n",
    "        ref_title_list=[s['ref-fulltext'] for s in ref_list]\n",
    "        ref_id_list=[s['ref-info']['refd-itemidlist']['itemid'] for s in ref_list]\n",
    "        for ref_id in ref_id_list:\n",
    "            if type(ref_id)==dict: # Has one id.\n",
    "                ref_scp_id_list+=[ref_id['$']]\n",
    "            elif type(ref_id)==list: # Has multiple ID.\n",
    "                ref_scp_id_list+=[[t['$'] for t in ref_id if t['@idtype']=='SGR'][0]]\n",
    "            else: # Exceptions.\n",
    "                raise\n",
    "    elif type(ref_list)==dict: # Has only one reference.\n",
    "        ref_title_list=[ref_list['ref-fulltext']]\n",
    "        ref_id=ref_list['ref-info']['refd-itemidlist']['itemid']\n",
    "        if type(ref_id)==dict: # Has one id.\n",
    "            ref_scp_id_list+=[ref_id['$']]\n",
    "        elif type(ref_id)==list: # Has multiple ID.\n",
    "            ref_scp_id_list+=[[t['$'] for t in ref_id if t['@idtype']=='SGR'][0]]\n",
    "        else: # Exceptions.\n",
    "            raise\n",
    "    else:\n",
    "        raise\n",
    "    df_citation_sgr_title=pd.concat([df_citation_sgr_title, pd.DataFrame(ref_title_list, ref_scp_id_list)], axis=0, ignore_index=False)"
   ]
  },
  {
   "cell_type": "code",
   "execution_count": null,
   "id": "1e8d687a-4838-4233-93b2-a816b7bb51b7",
   "metadata": {},
   "outputs": [],
   "source": [
    "df_citation_sgr_title=df_citation_sgr_title.reset_index().rename(columns={'index':'sgr', 0:'title'})\n",
    "df_citation_sgr_title.sample(3)"
   ]
  },
  {
   "cell_type": "code",
   "execution_count": null,
   "id": "32776e4f-360f-483d-9c30-50bab954a169",
   "metadata": {},
   "outputs": [],
   "source": [
    "df_citation_sgr_title"
   ]
  },
  {
   "cell_type": "code",
   "execution_count": null,
   "id": "9c66fdae-514e-4d67-8d39-f44095595d83",
   "metadata": {},
   "outputs": [],
   "source": [
    "df_sgr_title=pd.concat([df_sgr_title, df_citation_sgr_title], ignore_index=True, axis=0)"
   ]
  },
  {
   "cell_type": "code",
   "execution_count": null,
   "id": "4e60557b-bc8a-42b0-8fe4-09508c799c66",
   "metadata": {},
   "outputs": [],
   "source": [
    "df_sgr_title"
   ]
  },
  {
   "cell_type": "code",
   "execution_count": null,
   "id": "651d928a-7145-4591-89f1-6aba12d07343",
   "metadata": {},
   "outputs": [],
   "source": [
    "df_sgr_title=df_sgr_title.loc[df_sgr_title.sgr.drop_duplicates().index]\n",
    "df_sgr_title"
   ]
  },
  {
   "cell_type": "code",
   "execution_count": null,
   "id": "1dc9203d-0b08-4bb9-acf4-ece9bca135bb",
   "metadata": {},
   "outputs": [],
   "source": [
    "df_sgr_title.set_index('sgr', inplace=True)"
   ]
  },
  {
   "cell_type": "code",
   "execution_count": null,
   "id": "ce9908f0-be34-4bda-a191-073a123a4ac8",
   "metadata": {},
   "outputs": [],
   "source": [
    "for node in tqdm(g.nodes()):\n",
    "    g.nodes[node]['title']=df_sgr_title.loc[node]['title']"
   ]
  },
  {
   "cell_type": "code",
   "execution_count": null,
   "id": "dd3cb99d-bcf7-4b0f-80f0-e1ed8fa22444",
   "metadata": {},
   "outputs": [],
   "source": [
    "list(g.edges(data=True))[0:5]"
   ]
  },
  {
   "cell_type": "code",
   "execution_count": null,
   "id": "c6a2c34e-6e4e-4cfc-be64-ec2f4f3604e0",
   "metadata": {},
   "outputs": [],
   "source": [
    "import community as cm"
   ]
  },
  {
   "cell_type": "code",
   "execution_count": null,
   "id": "824acbad-5ac7-402a-b034-e5a82000880d",
   "metadata": {},
   "outputs": [],
   "source": [
    "cluster_num=cm.best_partition(g.to_undirected())"
   ]
  },
  {
   "cell_type": "code",
   "execution_count": null,
   "id": "2b3a969b-a81e-4cb4-96e3-b343554bdf8b",
   "metadata": {},
   "outputs": [],
   "source": [
    "for node in tqdm(g.nodes()):\n",
    "    g.nodes[node]['cluster']=cluster_num[node]"
   ]
  },
  {
   "cell_type": "code",
   "execution_count": null,
   "id": "c54550e4-5510-4a73-b83e-06af934ad211",
   "metadata": {},
   "outputs": [],
   "source": [
    "btw_cent_dict=nx.betweenness_centrality(g, weight='weight')"
   ]
  },
  {
   "cell_type": "code",
   "execution_count": null,
   "id": "302caddc-7225-47a2-9a2e-704200a05ae9",
   "metadata": {},
   "outputs": [],
   "source": [
    "for node in tqdm(g.nodes()):\n",
    "    g.nodes[node]['btw_cent']=btw_cent_dict[node]v"
   ]
  },
  {
   "cell_type": "code",
   "execution_count": null,
   "id": "ab52b433-2fb7-4669-89f5-6b2c9fcb2ba9",
   "metadata": {},
   "outputs": [],
   "source": [
    "deg_cent_dict=nx.degree_centrality(g)\n",
    "for node in tqdm(g.nodes()):\n",
    "    g.nodes[node]['deg_cent']=deg_cent_dict[node]"
   ]
  },
  {
   "cell_type": "code",
   "execution_count": null,
   "id": "17a7d976-1410-4509-aed4-8217d7c11920",
   "metadata": {},
   "outputs": [],
   "source": [
    "cls_cent_dict=nx.closeness_centrality(g)\n",
    "for node in tqdm(g.nodes()):\n",
    "    g.nodes[node]['cls_cent']=cls_cent_dict[node]"
   ]
  },
  {
   "cell_type": "code",
   "execution_count": null,
   "id": "ea618d30-711a-4a95-aa7b-28e73758386c",
   "metadata": {},
   "outputs": [],
   "source": [
    "df_node_attri=pd.json_normalize(pd.DataFrame(g.nodes(data=True))[1]).merge(pd.DataFrame(g.nodes(data=True))[0], left_index=True, right_index=True).rename(columns={0:'node'})"
   ]
  },
  {
   "cell_type": "code",
   "execution_count": null,
   "id": "e52a096b-9706-43ba-946c-8d62eec943e4",
   "metadata": {},
   "outputs": [],
   "source": [
    "df_node_attri.to_excel('../output/df_node_attri.xlsx')"
   ]
  }
 ],
 "metadata": {
  "kernelspec": {
   "display_name": "Python 3 (ipykernel)",
   "language": "python",
   "name": "python3"
  },
  "language_info": {
   "codemirror_mode": {
    "name": "ipython",
    "version": 3
   },
   "file_extension": ".py",
   "mimetype": "text/x-python",
   "name": "python",
   "nbconvert_exporter": "python",
   "pygments_lexer": "ipython3",
   "version": "3.9.13"
  }
 },
 "nbformat": 4,
 "nbformat_minor": 5
}
