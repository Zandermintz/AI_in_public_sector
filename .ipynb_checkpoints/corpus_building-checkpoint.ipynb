{
 "cells": [
  {
   "cell_type": "markdown",
   "id": "692d9e51-1fd8-4aa3-bc73-702570e49af5",
   "metadata": {},
   "source": [
    "# Corpus Building Notebook"
   ]
  },
  {
   "cell_type": "code",
   "execution_count": 1,
   "id": "9e9fffc0-731c-4275-976c-bc07a2e83e38",
   "metadata": {
    "tags": []
   },
   "outputs": [],
   "source": [
    "#Install libraries\n",
    "\n",
    "import sys\n",
    "import pandas as pd\n",
    "import numpy as np\n",
    "import matplotlib.pyplot as plt\n",
    "import requests\n",
    "from tqdm import tqdm\n",
    "from collections import Counter"
   ]
  },
  {
   "cell_type": "code",
   "execution_count": 4,
   "id": "71556cc6-b163-42ff-94b7-d18701a9612a",
   "metadata": {
    "tags": []
   },
   "outputs": [],
   "source": [
    "#Installing client - run below command in terminal\n",
    "\n",
    "#pip install pyalex #pyalex client: https://github.com/J535D165/pyalex"
   ]
  },
  {
   "cell_type": "markdown",
   "id": "8bbd03d6-b01f-49db-8366-208a5189508a",
   "metadata": {},
   "source": [
    "## Seed Sources"
   ]
  },
  {
   "cell_type": "markdown",
   "id": "a91efd73-63df-44cf-833a-5c2e908ef01b",
   "metadata": {},
   "source": [
    "### Create and Obtain List of Seed Sources"
   ]
  },
  {
   "cell_type": "code",
   "execution_count": 18,
   "id": "7a7269d5-b510-42d8-baf8-15fb9a5e1d26",
   "metadata": {
    "tags": []
   },
   "outputs": [],
   "source": [
    "#TODO: Fill in the rest of our seed sources in DOI_list below\n",
    "DOI_list = ['https://doi.org/10.1098/rsta.2017.0357',\n",
    "           'https://doi.org/10.1098/rsta.2017.0359',\n",
    "           'https://doi.org/10.1146/annurev-lawsocsci-041221-023808',\n",
    "           '10.1080/14719037.2022.2048685',\n",
    "           'https://doi.org/10.1145/3476089',\n",
    "           'https://doi.org/10.1162/DAED_a_01922',\n",
    "           'https://doi.org/10.1098/rsta.2017.0364']"
   ]
  },
  {
   "cell_type": "markdown",
   "id": "01eb39e2-b6c0-4f7e-b5fb-1904e78ccb42",
   "metadata": {},
   "source": [
    "### Grab Information for Each Seed Source"
   ]
  },
  {
   "cell_type": "code",
   "execution_count": 19,
   "id": "5e390a31-c0fd-4a35-9a2f-24a678e7d204",
   "metadata": {
    "tags": []
   },
   "outputs": [],
   "source": [
    "#Initializing pyalex client\n",
    "from pyalex import Works, Authors, Venues, Institutions, Concepts\n",
    "import pyalex #The polite pool has much faster and more consistent response times.\n",
    "pyalex.config.email = \"zmintz@utexas.edu\" #To get into the polite pool, you set your email"
   ]
  },
  {
   "cell_type": "code",
   "execution_count": 20,
   "id": "99422f29-d369-4de6-b9e0-9adb714569f0",
   "metadata": {
    "tags": []
   },
   "outputs": [],
   "source": [
    "#Pull list of seed DOIs in OpenAlex API\n",
    "# pipe_separated_DOI_list = \"|\".join(DOI_list)\n",
    "# r = requests.get(f\"https://api.openalex.org/works?filter=doi:{pipe_separated_DOI_list}&per-page=50&mailto=support@openalex.org\")\n",
    "# works = r.json()[\"results\"]"
   ]
  },
  {
   "cell_type": "code",
   "execution_count": 25,
   "id": "874644d2-7840-4116-8b3e-17f66ba410c2",
   "metadata": {
    "tags": []
   },
   "outputs": [
    {
     "name": "stdout",
     "output_type": "stream",
     "text": [
      "Grabbed 7 out of 7 articles\n"
     ]
    }
   ],
   "source": [
    "#Grab citations and references from each seed source\n",
    "grabbed_seed_sources_dicts = Works().filter(doi=pipe_separated_DOI_list, is_oa=True).get()\n",
    "\n",
    "#Check how many we grabbed\n",
    "print(\"Grabbed %d out of %d articles\" % (len(grabbed_seed_sources_dicts), len(DOI_list)))\n",
    "\n",
    "#If we need to investigate which dois didn't get grabbed\n",
    "#grabbed_DOI_list = [dict[\"doi\"] for dict in grabbed_seed_sources_dicts]\n",
    "#grabbed_DOI_list"
   ]
  },
  {
   "cell_type": "markdown",
   "id": "0fd0e68d-71f7-4f7b-a304-8bf4f733b939",
   "metadata": {},
   "source": [
    "### Snapshot of One Work in Seed Source Dictionary \n",
    "JSON viewer: http://jsonviewer.stack.hu/ --> view json in tree here\n",
    "JSON editor: https://jsoneditoronline.org/#left=local.zacayi --> reformat output here\n",
    "\n",
    "Pertinent attributes in dictionary include\n",
    "* id : \"https://openalex.org/W3186947646\"\n",
    "* doi : \"https://doi.org/10.1146/annurev-lawsocsci-041221-023808\"\n",
    "* title : \"Algorithms and Decision-Making in the Public Sector\"\n",
    "* display_name : \"Algorithms and Decision-Making in the Public Sector\"\n",
    "* publication_year : 2021\n",
    "* publication_date : \"2021-10-13\"\n",
    "* ids\n",
    "* primary_location\n",
    "* host_venue\n",
    "* type : \"journal-article\"\n",
    "* open_access\n",
    "* authorships\n",
    "* cited_by_count : 15\n",
    "* biblio\n",
    "* is_retracted : false\n",
    "* is_paratext : false\n",
    "* concepts\n",
    "* mesh\n",
    "* locations\n",
    "* best_oa_location\n",
    "* alternate_host_venues\n",
    "* referenced_works\n",
    "* related_works\n",
    "* ngrams_url : \"https://api.openalex.org/works/W3186947646/ngrams\"\n",
    "* abstract_inverted_index\n",
    "* cited_by_api_url : \"https://api.openalex.org/works?filter=cites:W3186947646\"\n",
    "* counts_by_year\n",
    "* updated_date : \"2023-02-23T16:34:40.366204\"\n",
    "* created_date : \"2021-08-02\""
   ]
  },
  {
   "cell_type": "markdown",
   "id": "d6b7d8c8-42ee-4f0f-9220-c33b983bfb88",
   "metadata": {},
   "source": [
    "## Obtain References and Related Works"
   ]
  },
  {
   "cell_type": "markdown",
   "id": "704ea597-cfba-4e56-929d-56c717037ddd",
   "metadata": {},
   "source": [
    "### Get List of References and Related Works"
   ]
  },
  {
   "cell_type": "code",
   "execution_count": 43,
   "id": "2aa5e07c-9972-4ac8-84dc-b8fd051eb23c",
   "metadata": {},
   "outputs": [
    {
     "name": "stdout",
     "output_type": "stream",
     "text": [
      "Related Works: 70 total, 62 deduped\n",
      "Referenced Works: 353 total, 344 deduped\n"
     ]
    }
   ],
   "source": [
    "#Get referenced works\n",
    "ref_works_id_list = [dict[\"referenced_works\"] for dict in grabbed_seed_sources_dicts]\n",
    "\n",
    "#Get related works\n",
    "related_works_id_list = [dict[\"related_works\"] for dict in grabbed_seed_sources_dicts]\n",
    "\n",
    "#Flatten list of lists and dedupe ids\n",
    "ref_ids = [] #initialize\n",
    "related_ids = []\n",
    "\n",
    "non_deduped_ref = [item for sublist in ref_works_id_list for item in sublist]\n",
    "non_deduped_rel = [item for sublist in related_works_id_list for item in sublist]\n",
    "[ref_ids.append(item) for sublist in ref_works_id_list for item in sublist if item not in ref_ids]\n",
    "[related_ids.append(item) for sublist in related_works_id_list for item in sublist if item not in related_ids]\n",
    "\n",
    "print(\"Related Works: %d total, %d deduped\" % (len(non_deduped_rel), len(related_ids)))\n",
    "print(\"Referenced Works: %d total, %d deduped\" % (len(non_deduped_ref), len(ref_ids)))"
   ]
  },
  {
   "cell_type": "code",
   "execution_count": 48,
   "id": "662b5c92-db34-4f09-a614-bc8d980f2279",
   "metadata": {
    "tags": []
   },
   "outputs": [
    {
     "name": "stdout",
     "output_type": "stream",
     "text": [
      "Total number of Deduped Referenced and Related Works: 406\n"
     ]
    }
   ],
   "source": [
    "#Combine and dedupe the related works and referenced works\n",
    "combined_rel_ref_ids = set(ref_ids + related_ids)\n",
    "print(\"Total number of Deduped Referenced and Related Works:\", len(combined_rel_ref_ids))"
   ]
  },
  {
   "cell_type": "markdown",
   "id": "fae86617-14cd-420f-96ba-339ac3383dfd",
   "metadata": {},
   "source": [
    "### Grab Information for Each Reference"
   ]
  },
  {
   "cell_type": "code",
   "execution_count": 159,
   "id": "2d73516d-9f6c-4bdf-a619-465fba26c4f7",
   "metadata": {},
   "outputs": [
    {
     "data": {
      "text/plain": [
       "'https://openalex.org/W1515468801|https://openalex.org/W1528117011|https://openalex.org/W1534601691|https://openalex.org/W1550609238|https://openalex.org/W1582164576|https://openalex.org/W1583390633|https://openalex.org/W1899305834|https://openalex.org/W1965919670|https://openalex.org/W1975070330|https://openalex.org/W1976237711|https://openalex.org/W1976548852|https://openalex.org/W1981235228|https://openalex.org/W1993781022|https://openalex.org/W1994451842|https://openalex.org/W1996392459|https://openalex.org/W2000771887|https://openalex.org/W2019075367|https://openalex.org/W2032653717|https://openalex.org/W2052432121|https://openalex.org/W2077494655|https://openalex.org/W2088641112|https://openalex.org/W2096166601|https://openalex.org/W2098614273|https://openalex.org/W2099436484|https://openalex.org/W2102124654|https://openalex.org/W2117767124|https://openalex.org/W2121508014|https://openalex.org/W2123992955|https://openalex.org/W2132773425|https://openalex.org/W2148889331|https://openalex.org/W2149583356|https://openalex.org/W2150363226|https://openalex.org/W2155317500|https://openalex.org/W2159821153|https://openalex.org/W2162577040|https://openalex.org/W2165610448|https://openalex.org/W2528072246|https://openalex.org/W2599165923|https://openalex.org/W2607562496|https://openalex.org/W2621644951|https://openalex.org/W2761004239|https://openalex.org/W3125353836|https://openalex.org/W4251425504|https://openalex.org/W1494192115|https://openalex.org/W1686065478|https://openalex.org/W1901616594|https://openalex.org/W1996358684|https://openalex.org/W2014352947|https://openalex.org/W2017481266|https://openalex.org/W2084341220'"
      ]
     },
     "execution_count": 190,
     "metadata": {},
     "output_type": "execute_result"
    }
   ],
   "source": [
    "#OpenAlex API can only handle calls for 50 articles at once\n",
    "pipe_separated_ref_list1 = \"|\".join(ref_ids[0:50])\n",
    "pipe_separated_ref_list2 = \"|\".join(ref_ids[50:100])\n",
    "pipe_separated_ref_list3 = \"|\".join(ref_ids[100:150])\n",
    "pipe_separated_ref_list4 = \"|\".join(ref_ids[150:200])\n",
    "pipe_separated_ref_list5 = \"|\".join(ref_ids[200:250])\n",
    "pipe_separated_ref_list6 = \"|\".join(ref_ids[250:300])\n",
    "pipe_separated_ref_list7 = \"|\".join(ref_ids[300::])"
   ]
  },
  {
   "cell_type": "code",
   "execution_count": 243,
   "id": "12a10542-c0a0-44c3-81aa-ff92124cf793",
   "metadata": {
    "tags": []
   },
   "outputs": [],
   "source": [
    "#Pull list of seed DOIs in OpenAlex API\n",
    "# pipe_separated_ref_list = \"|\".join(ref_ids)\n",
    "\n",
    "# print(pipe_separated_DOI_list)\n",
    "# grabbed_ref_works_dicts = []\n",
    "# for id in ref_ids[0:1]:\n",
    "#     grabbed_ref_works_dicts.append(Works()[id])  \n",
    "# len(grabbed_ref_works_dicts)\n",
    "\n",
    "grabbed_ref_works_dict3 = Works().filter(openalex=pipe_separated_ref_list3, is_oa=True).get()"
   ]
  },
  {
   "cell_type": "code",
   "execution_count": 244,
   "id": "6f5269bd-c529-4451-bc5c-8f93a996e8ff",
   "metadata": {
    "tags": []
   },
   "outputs": [
    {
     "name": "stdout",
     "output_type": "stream",
     "text": [
      "Not Grabbed: 27\n"
     ]
    },
    {
     "data": {
      "text/plain": [
       "['https://openalex.org/W2264856678',\n",
       " 'https://openalex.org/W2147978323',\n",
       " 'https://openalex.org/W2087880176',\n",
       " 'https://openalex.org/W4234973119',\n",
       " 'https://openalex.org/W4230900352',\n",
       " 'https://openalex.org/W4235957736',\n",
       " 'https://openalex.org/W2056514185',\n",
       " 'https://openalex.org/W2768011231',\n",
       " 'https://openalex.org/W2102256472',\n",
       " 'https://openalex.org/W2584419678',\n",
       " 'https://openalex.org/W2072615333',\n",
       " 'https://openalex.org/W2081011876',\n",
       " 'https://openalex.org/W1996796871',\n",
       " 'https://openalex.org/W2090199150',\n",
       " 'https://openalex.org/W2618399361',\n",
       " 'https://openalex.org/W2505586342',\n",
       " 'https://openalex.org/W4239251798',\n",
       " 'https://openalex.org/W2741722481',\n",
       " 'https://openalex.org/W4236915499',\n",
       " 'https://openalex.org/W4241052550',\n",
       " 'https://openalex.org/W2134553571',\n",
       " 'https://openalex.org/W2736744013',\n",
       " 'https://openalex.org/W2563825425',\n",
       " 'https://openalex.org/W2323354180',\n",
       " 'https://openalex.org/W3123677487',\n",
       " 'https://openalex.org/W2619503097',\n",
       " 'https://openalex.org/W2345886040']"
      ]
     },
     "execution_count": 244,
     "metadata": {},
     "output_type": "execute_result"
    }
   ],
   "source": [
    "grabbed_oa_list = [dict[\"id\"] for dict in grabbed_ref_works_dict3]\n",
    "\n",
    "not_grabbed = list(set(ref_ids[100:150]) - set(grabbed_oa_list))\n",
    "print(\"Not Grabbed:\", len(not_grabbed))\n",
    "not_grabbed"
   ]
  },
  {
   "cell_type": "code",
   "execution_count": 245,
   "id": "631ab62e-8db5-4812-8430-8061cfaadfc6",
   "metadata": {
    "tags": []
   },
   "outputs": [
    {
     "name": "stdout",
     "output_type": "stream",
     "text": [
      "Grabbed: 23\n"
     ]
    },
    {
     "data": {
      "text/plain": [
       "['https://openalex.org/W2012218966',\n",
       " 'https://openalex.org/W2099419573',\n",
       " 'https://openalex.org/W1945197361',\n",
       " 'https://openalex.org/W2516809705',\n",
       " 'https://openalex.org/W1515490832',\n",
       " 'https://openalex.org/W2792183666',\n",
       " 'https://openalex.org/W2396457900',\n",
       " 'https://openalex.org/W2203167467',\n",
       " 'https://openalex.org/W2529251251',\n",
       " 'https://openalex.org/W2963125461',\n",
       " 'https://openalex.org/W2343909946',\n",
       " 'https://openalex.org/W2737089608',\n",
       " 'https://openalex.org/W2890416412',\n",
       " 'https://openalex.org/W2752128648',\n",
       " 'https://openalex.org/W2308584766',\n",
       " 'https://openalex.org/W2078296477',\n",
       " 'https://openalex.org/W2721145261',\n",
       " 'https://openalex.org/W4236688941',\n",
       " 'https://openalex.org/W2118457180',\n",
       " 'https://openalex.org/W3124059580',\n",
       " 'https://openalex.org/W3125947019',\n",
       " 'https://openalex.org/W3123857767',\n",
       " 'https://openalex.org/W4255068218']"
      ]
     },
     "execution_count": 245,
     "metadata": {},
     "output_type": "execute_result"
    }
   ],
   "source": [
    "print(\"Grabbed:\", len(grabbed_oa_list))\n",
    "grabbed_oa_list"
   ]
  },
  {
   "cell_type": "code",
   "execution_count": 163,
   "id": "cc08e7a7-08f6-4b66-981e-693c4b375d2a",
   "metadata": {},
   "outputs": [
    {
     "data": {
      "text/plain": [
       "[{'id': 'https://openalex.org/W1515468801',\n",
       "  'doi': 'https://doi.org/10.1080/14719030802685263',\n",
       "  'title': '‘One Size Does Not Fit All’',\n",
       "  'display_name': '‘One Size Does Not Fit All’',\n",
       "  'publication_year': 2009,\n",
       "  'publication_date': '2009-02-24',\n",
       "  'ids': {'openalex': 'https://openalex.org/W1515468801',\n",
       "   'doi': 'https://doi.org/10.1080/14719030802685263',\n",
       "   'mag': '1515468801'},\n",
       "  'primary_location': {'is_oa': None,\n",
       "   'landing_page_url': 'https://doi.org/10.1080/14719030802685263',\n",
       "   'pdf_url': None,\n",
       "   'source': {'id': 'https://openalex.org/S37623806',\n",
       "    'display_name': 'Public Management Review',\n",
       "    'issn_l': '1471-9037',\n",
       "    'issn': ['1471-9045', '1471-9037'],\n",
       "    'host_organization': 'https://openalex.org/P4310320547',\n",
       "    'type': 'journal'},\n",
       "   'license': None,\n",
       "   'version': None},\n",
       "  'host_venue': {'id': 'https://openalex.org/S37623806',\n",
       "   'issn_l': '1471-9037',\n",
       "   'issn': ['1471-9045', '1471-9037'],\n",
       "   'display_name': 'Public Management Review',\n",
       "   'publisher': 'Taylor & Francis',\n",
       "   'type': 'journal',\n",
       "   'url': None,\n",
       "   'is_oa': False,\n",
       "   'version': None,\n",
       "   'license': None},\n",
       "  'type': 'journal-article',\n",
       "  'open_access': {'is_oa': False, 'oa_status': 'closed', 'oa_url': None},\n",
       "  'authorships': [{'author_position': 'first',\n",
       "    'author': {'id': 'https://openalex.org/A673086725',\n",
       "     'display_name': 'Hanne Heen',\n",
       "     'orcid': None},\n",
       "    'institutions': [],\n",
       "    'raw_affiliation_string': ''}],\n",
       "  'cited_by_count': 10,\n",
       "  'biblio': {'volume': '11',\n",
       "   'issue': '2',\n",
       "   'first_page': '235',\n",
       "   'last_page': '253'},\n",
       "  'is_retracted': False,\n",
       "  'is_paratext': False,\n",
       "  'concepts': [{'id': 'https://openalex.org/C149782125',\n",
       "    'wikidata': 'https://www.wikidata.org/wiki/Q160039',\n",
       "    'display_name': 'Econometrics',\n",
       "    'level': 1,\n",
       "    'score': '0.35180348'},\n",
       "   {'id': 'https://openalex.org/C17744445',\n",
       "    'wikidata': 'https://www.wikidata.org/wiki/Q36442',\n",
       "    'display_name': 'Political science',\n",
       "    'level': 0,\n",
       "    'score': '0.34967393'},\n",
       "   {'id': 'https://openalex.org/C33923547',\n",
       "    'wikidata': 'https://www.wikidata.org/wiki/Q395',\n",
       "    'display_name': 'Mathematics',\n",
       "    'level': 0,\n",
       "    'score': '0.33494076'},\n",
       "   {'id': 'https://openalex.org/C162324750',\n",
       "    'wikidata': 'https://www.wikidata.org/wiki/Q8134',\n",
       "    'display_name': 'Economics',\n",
       "    'level': 0,\n",
       "    'score': '0.32896107'}],\n",
       "  'mesh': [],\n",
       "  'locations': [{'is_oa': None,\n",
       "    'landing_page_url': 'https://doi.org/10.1080/14719030802685263',\n",
       "    'pdf_url': None,\n",
       "    'source': {'id': 'https://openalex.org/S37623806',\n",
       "     'display_name': 'Public Management Review',\n",
       "     'issn_l': '1471-9037',\n",
       "     'issn': ['1471-9045', '1471-9037'],\n",
       "     'host_organization': 'https://openalex.org/P4310320547',\n",
       "     'type': 'journal'},\n",
       "    'license': None,\n",
       "    'version': None}],\n",
       "  'best_oa_location': None,\n",
       "  'alternate_host_venues': [{'id': 'https://openalex.org/S37623806',\n",
       "    'display_name': 'Public Management Review',\n",
       "    'type': 'journal',\n",
       "    'url': None,\n",
       "    'is_oa': False,\n",
       "    'version': None,\n",
       "    'license': None}],\n",
       "  'referenced_works': ['https://openalex.org/W1596825170',\n",
       "   'https://openalex.org/W1964384345',\n",
       "   'https://openalex.org/W1985881756',\n",
       "   'https://openalex.org/W1987900945',\n",
       "   'https://openalex.org/W1996216743',\n",
       "   'https://openalex.org/W1998397914',\n",
       "   'https://openalex.org/W1998900626',\n",
       "   'https://openalex.org/W2052255144',\n",
       "   'https://openalex.org/W2065967525',\n",
       "   'https://openalex.org/W2097809632',\n",
       "   'https://openalex.org/W2109442614',\n",
       "   'https://openalex.org/W2112289938',\n",
       "   'https://openalex.org/W2120767947',\n",
       "   'https://openalex.org/W2138381559',\n",
       "   'https://openalex.org/W2146622136',\n",
       "   'https://openalex.org/W2155914545',\n",
       "   'https://openalex.org/W2162577040',\n",
       "   'https://openalex.org/W2169863569',\n",
       "   'https://openalex.org/W3123480830',\n",
       "   'https://openalex.org/W3125560382',\n",
       "   'https://openalex.org/W4210702550',\n",
       "   'https://openalex.org/W4244911684'],\n",
       "  'related_works': ['https://openalex.org/W331667891',\n",
       "   'https://openalex.org/W1522504334',\n",
       "   'https://openalex.org/W1973538245',\n",
       "   'https://openalex.org/W2013444265',\n",
       "   'https://openalex.org/W2021570049',\n",
       "   'https://openalex.org/W2030617584',\n",
       "   'https://openalex.org/W2056210026',\n",
       "   'https://openalex.org/W2142213187',\n",
       "   'https://openalex.org/W2899084033',\n",
       "   'https://openalex.org/W3149328373'],\n",
       "  'ngrams_url': 'https://api.openalex.org/works/W1515468801/ngrams',\n",
       "  'abstract_inverted_index': {'Abstract': [0],\n",
       "   'The': [1, 56],\n",
       "   'article': [2, 57],\n",
       "   'presents': [3],\n",
       "   'a': [4, 64, 67],\n",
       "   'comparative': [5],\n",
       "   'analysis': [6],\n",
       "   'of': [7, 15, 18, 63, 77],\n",
       "   'mandatory': [8],\n",
       "   'networks': [9, 30],\n",
       "   'used': [10],\n",
       "   'as': [11, 70, 72],\n",
       "   'an': [12],\n",
       "   'integrated': [13],\n",
       "   'part': [14],\n",
       "   'local': [16],\n",
       "   'governance': [17],\n",
       "   'the': [19, 29, 60, 75, 80, 83],\n",
       "   'primary': [20],\n",
       "   'medical': [21],\n",
       "   'service': [22],\n",
       "   'in': [23, 37, 82],\n",
       "   'Norway,': [24],\n",
       "   'and': [25, 31, 41, 52],\n",
       "   'their': [26, 32, 38],\n",
       "   'management.': [27],\n",
       "   'Both': [28],\n",
       "   'management': [33, 44],\n",
       "   'showed': [34],\n",
       "   'considerable': [35],\n",
       "   'variation': [36],\n",
       "   'basic': [39],\n",
       "   'characteristics,': [40],\n",
       "   'three': [42],\n",
       "   'different': [43],\n",
       "   'roles': [45],\n",
       "   'are': [46],\n",
       "   'described:': [47],\n",
       "   '‘the': [48, 50, 53],\n",
       "   'diplomat’,': [49],\n",
       "   'adversary’': [51],\n",
       "   'equal': [54],\n",
       "   'partner’.': [55],\n",
       "   'argues': [58],\n",
       "   'that': [59],\n",
       "   'managerial': [61],\n",
       "   'role': [62],\n",
       "   'network': [65],\n",
       "   'is': [66],\n",
       "   'result': [68],\n",
       "   'of,': [69],\n",
       "   'well': [71],\n",
       "   'inflicting': [73],\n",
       "   'on,': [74],\n",
       "   'distribution': [76],\n",
       "   'power': [78],\n",
       "   'between': [79],\n",
       "   'participants': [81],\n",
       "   'network.': [84]},\n",
       "  'cited_by_api_url': 'https://api.openalex.org/works?filter=cites:W1515468801',\n",
       "  'counts_by_year': [{'year': 2023, 'cited_by_count': 1},\n",
       "   {'year': 2022, 'cited_by_count': 1},\n",
       "   {'year': 2018, 'cited_by_count': 2},\n",
       "   {'year': 2015, 'cited_by_count': 1},\n",
       "   {'year': 2013, 'cited_by_count': 2},\n",
       "   {'year': 2012, 'cited_by_count': 1}],\n",
       "  'updated_date': '2023-02-25T00:13:14.967001',\n",
       "  'created_date': '2016-06-24'}]"
      ]
     },
     "execution_count": 163,
     "metadata": {},
     "output_type": "execute_result"
    }
   ],
   "source": [
    "ex"
   ]
  },
  {
   "cell_type": "code",
   "execution_count": null,
   "id": "f91bf3b6-77c7-40eb-99cc-45e838834dda",
   "metadata": {},
   "outputs": [],
   "source": []
  }
 ],
 "metadata": {
  "kernelspec": {
   "display_name": "Python 3 (ipykernel)",
   "language": "python",
   "name": "python3"
  },
  "language_info": {
   "codemirror_mode": {
    "name": "ipython",
    "version": 3
   },
   "file_extension": ".py",
   "mimetype": "text/x-python",
   "name": "python",
   "nbconvert_exporter": "python",
   "pygments_lexer": "ipython3",
   "version": "3.9.13"
  }
 },
 "nbformat": 4,
 "nbformat_minor": 5
}
